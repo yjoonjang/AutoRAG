{
 "cells": [
  {
   "cell_type": "markdown",
   "metadata": {},
   "source": [
    "# ASCO 데이터셋을 RAW 데이터셋으로\n",
    "- Hierarchical한 구조를 따름"
   ]
  },
  {
   "cell_type": "code",
   "execution_count": 4,
   "metadata": {},
   "outputs": [],
   "source": [
    "root_dir = \"/data_x/guro/DATA/ASCO\"\n",
    "save_dir = \"/data_x/guro/DATA/ASCO_RAW\""
   ]
  },
  {
   "cell_type": "code",
   "execution_count": 17,
   "metadata": {},
   "outputs": [
    {
     "data": {
      "text/plain": [
       "7445"
      ]
     },
     "execution_count": 17,
     "metadata": {},
     "output_type": "execute_result"
    }
   ],
   "source": [
    "import os\n",
    "import json\n",
    "\n",
    "all_data = []\n",
    "\n",
    "for dir in os.listdir(root_dir):\n",
    "  if dir != \"readme.md\":\n",
    "    data_dir = os.path.join(root_dir, dir)\n",
    "    section = None\n",
    "    total_chunk = \"\"\n",
    "    for file_name in os.listdir(data_dir):\n",
    "      if file_name.endswith(\".json\"):\n",
    "        file_path = os.path.join(data_dir, file_name)\n",
    "        with open(file_path, \"r\") as f:\n",
    "          data = json.load(f)\n",
    "          metadata = data[\"meta\"]\n",
    "          contents = data[\"content\"]\n",
    "          for content in contents:\n",
    "            chunk_section = content.get(\"section\", None)\n",
    "            chunk_text = content[\"chunk\"]\n",
    "            if chunk_section is not None:\n",
    "              metadata[\"section\"] = chunk_section\n",
    "              if section != chunk_section:\n",
    "                section = chunk_section\n",
    "                total_chunk = chunk_text\n",
    "              else:\n",
    "                total_chunk += chunk_text + \"\\n\"\n",
    "                continue\n",
    "            else:\n",
    "              total_chunk = chunk_text\n",
    "\t\t  \n",
    "            if chunk_section is not None:\n",
    "              doc_id = metadata[\"doc_title\"] + \" - \" + chunk_section\n",
    "            else:\n",
    "              doc_id = metadata[\"doc_title\"]\n",
    "            save_dict = {\n",
    "              \"doc_id\": doc_id,\n",
    "              \"contents\": total_chunk,\n",
    "              \"metadata\": metadata,\n",
    "            }\n",
    "            all_data.append(save_dict)\n",
    "len(all_data)\n"
   ]
  },
  {
   "cell_type": "code",
   "execution_count": 18,
   "metadata": {},
   "outputs": [
    {
     "data": {
      "text/plain": [
       "{'doc_id': 'Denosumab Prevents Bone Loss and Microarchitectural Deterioration in Premenopausal Women With Breast Cancer Receiving Estradiol Suppression Therapy: A Randomized Controlled Trial - Introduction',\n",
       " 'contents': 'Estradiol plays an important role in breast cancer progression in women with estrogen receptor (ER)–positive breast cancer. Adjuvant endocrine therapies prevent breast cancer recurrence by competing with estradiol (selective estrogen receptor modulators, ie, tamoxifen) or by depleting circulating estradiol. In premenopausal women with ER-positive early-stage breast cancer at high risk of disease recurrence, maximal depletion of circulating estradiol by concurrent administration of gonadotropin-releasing hormone analogs, bilateral oophorectomy, or ovarian radiation, and AI improves breast cancer outcomes compared with standard monotherapy with tamoxifen and is now increasingly being prescribed for 5 or more years.1-3',\n",
       " 'metadata': {'doc_title': 'Denosumab Prevents Bone Loss and Microarchitectural Deterioration in Premenopausal Women With Breast Cancer Receiving Estradiol Suppression Therapy: A Randomized Controlled Trial',\n",
       "  'doc_authors': 'Sabashini K. Ramchand, MBBS, BMedSci, FRACP https://orcid.org/0000-0002-6755-8469 sabashini.ramchand@austin.org.au, Ali Ghasem-Zadeh, PhD, MSc, Rudolf Hoermann, MD, PhD https://orcid.org/0000-0002-1326-4270, Shane White, MD, MBBS, FRACP, Belinda Yeo, MD, MBBS, BA, FRACP https://orcid.org/0000-0002-9218-9917, Prudence A. Francis, MD, MBBS, BMedSci, FRACP, FAHMS https://orcid.org/0000-0002-7207-9286, Cecilia L.H. Xu, MBBS, BMedSci, Olivia Coleman, MD, Cat Shore-Lorenti, MPhil https://orcid.org/0009-0002-0120-5609, Peter R. Ebeling, MD, MBBS, AO, FRACP https://orcid.org/0000-0002-2921-3742, Jeffrey D. Zajac, PhD, MBBS, FRACP https://orcid.org/0000-0003-3933-5708, Ego Seeman, MD, MBBS, AO, FRACP, Mathis Grossmann, MD, PhD, FRACP',\n",
       "  'doc_type': 'ORIGINAL REPORTS',\n",
       "  'doc_link': 'https://ascopubs.org/doi/10.1200/JCO.23.02309',\n",
       "  'section': 'Acknowledgment'}}"
      ]
     },
     "execution_count": 18,
     "metadata": {},
     "output_type": "execute_result"
    }
   ],
   "source": [
    "all_data[0]"
   ]
  },
  {
   "cell_type": "code",
   "execution_count": 21,
   "metadata": {},
   "outputs": [],
   "source": [
    "import pandas as pd\n",
    "\n",
    "df = pd.DataFrame(all_data)\n",
    "df.to_parquet(os.path.join(save_dir, \"corpus.parquet\"))"
   ]
  },
  {
   "cell_type": "code",
   "execution_count": 32,
   "metadata": {},
   "outputs": [
    {
     "name": "stdout",
     "output_type": "stream",
     "text": [
      "                                              doc_id  \\\n",
      "0  Denosumab Prevents Bone Loss and Microarchitec...   \n",
      "1  Denosumab Prevents Bone Loss and Microarchitec...   \n",
      "2  Denosumab Prevents Bone Loss and Microarchitec...   \n",
      "3  Denosumab Prevents Bone Loss and Microarchitec...   \n",
      "4  Denosumab Prevents Bone Loss and Microarchitec...   \n",
      "\n",
      "                                            contents  \\\n",
      "0  Estradiol plays an important role in breast ca...   \n",
      "1  This was a 12-month randomized, double-blind, ...   \n",
      "2  Participants were stratified by lumbar spine B...   \n",
      "3  Participants received 60 mg DMAB or matching P...   \n",
      "4  Adverse events were documented at each visit a...   \n",
      "\n",
      "                                            metadata  \n",
      "0  {'doc_authors': 'Sabashini K. Ramchand, MBBS, ...  \n",
      "1  {'doc_authors': 'Sabashini K. Ramchand, MBBS, ...  \n",
      "2  {'doc_authors': 'Sabashini K. Ramchand, MBBS, ...  \n",
      "3  {'doc_authors': 'Sabashini K. Ramchand, MBBS, ...  \n",
      "4  {'doc_authors': 'Sabashini K. Ramchand, MBBS, ...  \n",
      "Denosumab Prevents Bone Loss and Microarchitectural Deterioration in Premenopausal Women With Breast Cancer Receiving Estradiol Suppression Therapy: A Randomized Controlled Trial - Introduction\n",
      "Estradiol plays an important role in breast cancer progression in women with estrogen receptor (ER)–positive breast cancer. Adjuvant endocrine therapies prevent breast cancer recurrence by competing with estradiol (selective estrogen receptor modulators, ie, tamoxifen) or by depleting circulating estradiol. In premenopausal women with ER-positive early-stage breast cancer at high risk of disease recurrence, maximal depletion of circulating estradiol by concurrent administration of gonadotropin-releasing hormone analogs, bilateral oophorectomy, or ovarian radiation, and AI improves breast cancer outcomes compared with standard monotherapy with tamoxifen and is now increasingly being prescribed for 5 or more years.1-3\n",
      "Denosumab Prevents Bone Loss and Microarchitectural Deterioration in Premenopausal Women With Breast Cancer Receiving Estradiol Suppression Therapy: A Randomized Controlled Trial - Study Design and Participants\n",
      "This was a 12-month randomized, double-blind, PBO-controlled trial conducted at a single academic hospital. Premenopausal women, between age 18 and 55 years, were eligible for the study if they had confirmed ER-positive early-stage breast cancer and were going to receive treatment or had recently started treatment (<12 weeks before study enrollment) with combined OFS (gonadotropin-releasing hormone analog or bilateral oophorectomy) and AI.\n",
      "Denosumab Prevents Bone Loss and Microarchitectural Deterioration in Premenopausal Women With Breast Cancer Receiving Estradiol Suppression Therapy: A Randomized Controlled Trial - Randomization and Masking\n",
      "Participants were stratified by lumbar spine BMD (< or ≥1.09 g/cm2) and body mass index (BMI, < or ≥27 kg/m2) and then randomly assigned in a concealed 1:1 allocation to receive either DMAB or matching PBO using randomly permuted blocks with a block size of 4. Dispensing pharmacists, study investigators, and participants were blinded to intervention allocation.\n"
     ]
    }
   ],
   "source": [
    "df_loaded = pd.read_parquet(os.path.join(save_dir, \"raw_corpus.parquet\"))\n",
    "print(df_loaded.head())\n",
    "\n",
    "with pd.option_context('display.max_rows', None, 'display.max_columns', None):\n",
    "    print(df_loaded[\"doc_id\"][0])\n",
    "    print(df_loaded[\"contents\"][0])\n",
    "    print(df_loaded[\"doc_id\"][1])\n",
    "    print(df_loaded[\"contents\"][1])\n",
    "    print(df_loaded[\"doc_id\"][2])\n",
    "    print(df_loaded[\"contents\"][2])\n"
   ]
  },
  {
   "cell_type": "markdown",
   "metadata": {},
   "source": [
    "# Chunk by AutoRAG"
   ]
  },
  {
   "cell_type": "code",
   "execution_count": 3,
   "metadata": {},
   "outputs": [
    {
     "name": "stdout",
     "output_type": "stream",
     "text": [
      "file_name: \n",
      " contents: This was a 12-month randomized, double-blind, PBO-controlled trial conducted at a single academic hospital. Premenopausal women, between age 18 and 55 years, were eligible for the study if they had confirmed ER-positive early-stage breast cancer and were going to receive treatment or had recently started treatment (<12 weeks before study enrollment) with combined OFS (gonadotropin-releasing hormone analog or bilateral oophorectomy) and AI.\n",
      "file_name: \n",
      " contents: This was a 12-month randomized, double-blind, PBO-controlled trial conducted at a single academic hospital. Premenopausal women, between age 18 and 55 years, were eligible for the study if they had confirmed ER-positive early-stage breast cancer and were going to receive treatment or had recently started treatment (<12 weeks before study enrollment) with combined OFS (gonadotropin-releasing hormone analog or bilateral oophorectomy) and AI.\n",
      "file_name: \n",
      " contents: This was a 12-month randomized, double-blind, PBO-controlled trial conducted at a single academic hospital. Premenopausal women, between age 18 and 55 years, were eligible for the study if they had confirmed ER-positive early-stage breast cancer and were going to receive treatment or had recently started treatment (<12 weeks before study enrollment) with combined OFS (gonadotropin-releasing hormone analog or bilateral oophorectomy) and AI.\n"
     ]
    }
   ],
   "source": [
    "# Parquet data 확인하는 명령어\n",
    "import pyarrow.parquet as pq\n",
    "import pandas as pd\n",
    "\n",
    "# Load the parquet file\n",
    "token_1000_200_parquet_file = \"/data_x/guro/DATA/ASCO_RAW/CHUNKS/1.parquet\"\n",
    "token_500_100_parquet_file = \"/data_x/guro/DATA/ASCO_RAW/CHUNKS/3.parquet\"\n",
    "token_300_50_parquet_file = \"/data_x/guro/DATA/ASCO_RAW/CHUNKS/4.parquet\"\n",
    "\n",
    "# 첫번째 데이터들만 띄워서 보기\n",
    "token_1000_200_df = pq.read_table(token_1000_200_parquet_file).to_pandas()\n",
    "token_500_100_df = pq.read_table(token_500_100_parquet_file).to_pandas()\n",
    "token_300_50_df = pq.read_table(token_300_50_parquet_file).to_pandas()\n",
    "\n",
    "with pd.option_context('display.max_colwidth', None):\n",
    "    print(token_1000_200_df[\"contents\"][1])\n",
    "    print(token_500_100_df[\"contents\"][1])\n",
    "    print(token_300_50_df[\"contents\"][1])\n",
    "\n"
   ]
  },
  {
   "cell_type": "code",
   "execution_count": null,
   "metadata": {},
   "outputs": [],
   "source": []
  }
 ],
 "metadata": {
  "kernelspec": {
   "display_name": "autorag",
   "language": "python",
   "name": "python3"
  },
  "language_info": {
   "codemirror_mode": {
    "name": "ipython",
    "version": 3
   },
   "file_extension": ".py",
   "mimetype": "text/x-python",
   "name": "python",
   "nbconvert_exporter": "python",
   "pygments_lexer": "ipython3",
   "version": "3.11.10"
  }
 },
 "nbformat": 4,
 "nbformat_minor": 2
}
